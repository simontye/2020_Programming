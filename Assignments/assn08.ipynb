{
 "cells": [
  {
   "cell_type": "code",
   "execution_count": 11,
   "metadata": {},
   "outputs": [],
   "source": [
    "# Import module\n",
    "import re\n",
    "\n",
    "# Load file\n",
    "catherine = open(\"catherine.txt\")"
   ]
  },
  {
   "cell_type": "code",
   "execution_count": 12,
   "metadata": {},
   "outputs": [
    {
     "name": "stdout",
     "output_type": "stream",
     "text": [
      "Katherine went to the concert to see Catheryn and the Cathryn’s. She ran into her friend Kathryn, who introduced Katherine to her friend Catherine. Together, they enjoyed the concert while texting inaudible snippets to their mutual friend, Kathrin. Their mercurial friend, katharine, felt left out.\n"
     ]
    }
   ],
   "source": [
    "# Convert text file into readable format\n",
    "sentence = \" \".join(catherine)\n",
    "print(sentence)"
   ]
  },
  {
   "cell_type": "code",
   "execution_count": 23,
   "metadata": {},
   "outputs": [
    {
     "name": "stdout",
     "output_type": "stream",
     "text": [
      "Kathrin is 9 letters long ( Location: 0 - 9 )\n",
      "Kathrin is 8 letters long ( Location: 37 - 45 )\n",
      "Kathrin is 7 letters long ( Location: 54 - 61 )\n",
      "Kathrin is 7 letters long ( Location: 89 - 96 )\n",
      "Kathrin is 9 letters long ( Location: 113 - 122 )\n",
      "Kathrin is 9 letters long ( Location: 137 - 146 )\n",
      "Kathrin is 7 letters long ( Location: 240 - 247 )\n"
     ]
    }
   ],
   "source": [
    "for name in re.finditer(\"[KC]ath.{0,1}r[yi]ne*\", sentence):\n",
    "    print(m.group(0), \"is\", name.end() - name.start(), \"letters long ( Location:\", name.start(), \"-\", name.end(),\")\")"
   ]
  }
 ],
 "metadata": {
  "kernelspec": {
   "display_name": "Python 3",
   "language": "python",
   "name": "python3"
  },
  "language_info": {
   "codemirror_mode": {
    "name": "ipython",
    "version": 3
   },
   "file_extension": ".py",
   "mimetype": "text/x-python",
   "name": "python",
   "nbconvert_exporter": "python",
   "pygments_lexer": "ipython3",
   "version": "3.7.6"
  }
 },
 "nbformat": 4,
 "nbformat_minor": 4
}
