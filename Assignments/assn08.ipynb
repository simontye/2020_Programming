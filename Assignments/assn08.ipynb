{
 "cells": [
  {
   "cell_type": "code",
   "execution_count": 1,
   "metadata": {},
   "outputs": [],
   "source": [
    "# Import module\n",
    "import re\n",
    "\n",
    "# Load file\n",
    "catherine = open(\"catherine.txt\")"
   ]
  },
  {
   "cell_type": "code",
   "execution_count": 2,
   "metadata": {},
   "outputs": [
    {
     "name": "stdout",
     "output_type": "stream",
     "text": [
      "Katherine went to the concert to see Catheryn and the Cathryn’s. She ran into her friend Kathryn, who introduced Katherine to her friend Catherine. Together, they enjoyed the concert while texting inaudible snippets to their mutual friend, Kathrin. Their mercurial friend, katharine, felt left out.\n"
     ]
    }
   ],
   "source": [
    "# Convert text file into readable format\n",
    "sentence = \" \".join(catherine)\n",
    "print(sentence)"
   ]
  },
  {
   "cell_type": "code",
   "execution_count": 4,
   "metadata": {},
   "outputs": [
    {
     "name": "stdout",
     "output_type": "stream",
     "text": [
      "Katherine is 9 letters long ( Location: 0 - 9 )\n",
      "Catheryn is 8 letters long ( Location: 37 - 45 )\n",
      "Cathryn is 7 letters long ( Location: 54 - 61 )\n",
      "Kathryn is 7 letters long ( Location: 89 - 96 )\n",
      "Katherine is 9 letters long ( Location: 113 - 122 )\n",
      "Catherine is 9 letters long ( Location: 137 - 146 )\n",
      "Kathrin is 7 letters long ( Location: 240 - 247 )\n",
      "katharine is 9 letters long ( Location: 273 - 282 )\n"
     ]
    }
   ],
   "source": [
    "for name in re.finditer(\"[KkCc]ath.{0,1}r[yi]ne*\", sentence):\n",
    "    print(name.group(0), \"is\", name.end() - name.start(), \"letters long ( Location:\", name.start(), \"-\", name.end(),\")\")"
   ]
  },
  {
   "cell_type": "code",
   "execution_count": 21,
   "metadata": {},
   "outputs": [],
   "source": [
    "kath_find1 = re.compile(\"(k|c)ath[a-z]*r(y|i)n{1,}e*\", re.I)\n",
    "kath_find2 = re.compile(\"[kc]ath[aeiu]*r[yi]n{1,}e*\", re.I)"
   ]
  },
  {
   "cell_type": "code",
   "execution_count": 30,
   "metadata": {},
   "outputs": [
    {
     "name": "stdout",
     "output_type": "stream",
     "text": [
      "['Katherine', 'Catheryn', 'Cathryn', 'Kathryn', 'Katherine', 'Catherine', 'Kathrin', 'katharine']\n"
     ]
    }
   ],
   "source": [
    "found_list = re.findall(kath_find2, sentence)\n",
    "print(found_list)"
   ]
  },
  {
   "cell_type": "code",
   "execution_count": 37,
   "metadata": {},
   "outputs": [
    {
     "name": "stdout",
     "output_type": "stream",
     "text": [
      "Katherine is 9 letters long ( Location: 0 - 9 )\n",
      "Catheryn is 8 letters long ( Location: 37 - 45 )\n",
      "Cathryn is 7 letters long ( Location: 54 - 61 )\n",
      "Kathryn is 7 letters long ( Location: 89 - 96 )\n",
      "Katherine is 9 letters long ( Location: 113 - 122 )\n",
      "Catherine is 9 letters long ( Location: 137 - 146 )\n",
      "Kathrin is 7 letters long ( Location: 240 - 247 )\n",
      "katharine is 9 letters long ( Location: 273 - 282 )\n"
     ]
    }
   ],
   "source": [
    "for name in re.finditer(kath_find2, sentence):\n",
    "    print(name.group(0), \"is\", name.end() - name.start(), \"letters long ( Location:\", name.start(), \"-\", name.end(),\")\")"
   ]
  },
  {
   "cell_type": "code",
   "execution_count": 40,
   "metadata": {},
   "outputs": [
    {
     "name": "stdout",
     "output_type": "stream",
     "text": [
      "My regex found 8 matches\n"
     ]
    }
   ],
   "source": [
    "print(\"My regex found\", str(len(re.findall(kath_find2, sentence))), \"matches\")"
   ]
  },
  {
   "cell_type": "code",
   "execution_count": 36,
   "metadata": {},
   "outputs": [
    {
     "name": "stdout",
     "output_type": "stream",
     "text": [
      "Katherine\n",
      "Catheryn\n",
      "Cathryn\n",
      "Kathryn\n",
      "Katherine\n",
      "Catherine\n",
      "Kathrin\n",
      "katharine\n"
     ]
    }
   ],
   "source": [
    "for name in re.finditer(kath_find2, sentence):\n",
    "    print(\", \".join([name.group(0)]))"
   ]
  },
  {
   "cell_type": "code",
   "execution_count": null,
   "metadata": {},
   "outputs": [],
   "source": []
  }
 ],
 "metadata": {
  "kernelspec": {
   "display_name": "Python 3",
   "language": "python",
   "name": "python3"
  },
  "language_info": {
   "codemirror_mode": {
    "name": "ipython",
    "version": 3
   },
   "file_extension": ".py",
   "mimetype": "text/x-python",
   "name": "python",
   "nbconvert_exporter": "python",
   "pygments_lexer": "ipython3",
   "version": "3.7.6"
  }
 },
 "nbformat": 4,
 "nbformat_minor": 4
}
