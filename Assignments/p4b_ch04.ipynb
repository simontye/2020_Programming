{
 "cells": [
  {
   "cell_type": "code",
   "execution_count": 29,
   "metadata": {},
   "outputs": [],
   "source": [
    "### Chapter 4"
   ]
  },
  {
   "cell_type": "code",
   "execution_count": 89,
   "metadata": {},
   "outputs": [
    {
     "name": "stdout",
     "output_type": "stream",
     "text": [
      "1. Tangled Up in Blue\n",
      "2. Simple Twist of Fate\n",
      "3. You're a Big Girl Now\n",
      "4. Idiot Wind\n",
      "5. You're Gonna Make Me Lonesome When You Go\n",
      "6. Meet Me in the Morning\n",
      "7. Lily, Rosemary and the Jack of Hearts\n",
      "8. If You See Her, Say Hello\n",
      "9. Shelter from the Storm\n",
      "10. Buckets of Rain\n",
      "There are 10 songs on blood_on_the_tracks.txt\n",
      "The sixth track on blood_on_the_tracks.txt is Meet Me in the Morning\n",
      "The last track on blood_on_the_tracks.txt is Buckets of Rain\n",
      "The last track on blood_on_the_tracks.txt is Buckets of Rain\n",
      "I -d -i -o -t -  -W -i -n -d -\n",
      "T -a -n -g -l -e -d -  -U -p -  -i -n -  -B -l -u -e -\n",
      "S -i -m -p -l -e -  -T -w -i -s -t -  -o -f -  -F -a -t -e -\n",
      "Y -o -u -' -r -e -  -a -  -B -i -g -  -G -i -r -l -  -N -o -w -\n",
      "I -d -i -o -t -  -W -i -n -d -\n",
      "Y -o -u -' -r -e -  -G -o -n -n -a -  -M -a -k -e -  -M -e -  -L -o -n -e -s -o -m -e -  -W -h -e -n -  -Y -o -u -  -G -o -\n",
      "M -e -e -t -  -M -e -  -i -n -  -t -h -e -  -M -o -r -n -i -n -g -\n",
      "L -i -l -y -, -  -R -o -s -e -m -a -r -y -  -a -n -d -  -t -h -e -  -J -a -c -k -  -o -f -  -H -e -a -r -t -s -\n",
      "I -f -  -Y -o -u -  -S -e -e -  -H -e -r -, -  -S -a -y -  -H -e -l -l -o -\n",
      "S -h -e -l -t -e -r -  -f -r -o -m -  -t -h -e -  -S -t -o -r -m -\n",
      "B -u -c -k -e -t -s -  -o -f -  -R -a -i -n -"
     ]
    }
   ],
   "source": [
    "## Andy's tutorial: Part 1\n",
    "# Declare the file name\n",
    "file = \"blood_on_the_tracks.txt\"\n",
    "\n",
    "# Open and parse file\n",
    "infile = open(file, \"r\")\n",
    "\n",
    "# Declare a variable that is a list\n",
    "songs = []\n",
    "\n",
    "# Read the file line by line\n",
    "for theloveofgod in infile:\n",
    "    # print(theloveofgod.rstrip(\"\\n\"))\n",
    "    songs.append(theloveofgod.rstrip(\"\\n\"))\n",
    "\n",
    "# Close the file\n",
    "infile.close()\n",
    "\n",
    "# Create track number variable\n",
    "track_number = 0\n",
    "\n",
    "# For loop\n",
    "for track in songs:\n",
    "    track_number += 1\n",
    "    print(str(track_number) + \". \" + track)\n",
    "\n",
    "# Print out number of tracks on the albums\n",
    "print(\"There are\", len(songs), \"songs on\", file)\n",
    "\n",
    "# Print sixth track\n",
    "print(\"The sixth track on\", file, \"is\", songs[5])\n",
    "\n",
    "# Print last track\n",
    "print(\"The last track on\", file, \"is\", songs[-1])\n",
    "print(\"The last track on\", file, \"is\", songs[len(songs) - 1])\n",
    "\n",
    "# Loop over every character in a song\n",
    "# Each character in a list is treated separately\n",
    "# end = \"\" is similar to .rstrip(\"\\n\")\n",
    "track_index = 3\n",
    "for theloveofgod in songs[track_index]:\n",
    "    print(theloveofgod, \"-\", end = \"\")\n",
    "    \n",
    "# Nested for loops\n",
    "# Loop over the songs, and loop over every character in the song\n",
    "for track in songs:\n",
    "    print()\n",
    "    for character in track:\n",
    "        print(character, \"-\", end = \"\")"
   ]
  },
  {
   "cell_type": "code",
   "execution_count": null,
   "metadata": {},
   "outputs": [],
   "source": []
  },
  {
   "cell_type": "code",
   "execution_count": 2,
   "metadata": {},
   "outputs": [],
   "source": [
    "## Within chapter exercises\n",
    "# Creating variables with DNA sequences\n",
    "seq_1 = \"ATCGTACGATCGATCGATCGCTAGACGTATCG\"\n",
    "seq_2 = \"actgatcgacgatcgatcgatcacgact\"\n",
    "seq_3 = \"ACTGAC-ACTGT—ACTGTA----CATGTG\""
   ]
  },
  {
   "cell_type": "code",
   "execution_count": 3,
   "metadata": {},
   "outputs": [],
   "source": [
    "# Creating a list; each item within a list is an \"element\"\n",
    "apes = [\"Homo sapiens\", \"Pan troglodytes\", \"Gorilla gorilla\"]\n",
    "conserved_sites = [24, 56, 132]"
   ]
  },
  {
   "cell_type": "code",
   "execution_count": 4,
   "metadata": {},
   "outputs": [
    {
     "name": "stdout",
     "output_type": "stream",
     "text": [
      "Homo sapiens\n"
     ]
    }
   ],
   "source": [
    "# Print specific elements from a list using its \"index\"\n",
    "print(apes[0])\n",
    "# Save an element from list, using its \"index\", as a variable\n",
    "first_site = conserved_sites[2]"
   ]
  },
  {
   "cell_type": "code",
   "execution_count": 5,
   "metadata": {},
   "outputs": [],
   "source": [
    "# Save an element from a list, using its name, as a variable\n",
    "chimp_index = apes.index(\"Pan troglodytes\")"
   ]
  },
  {
   "cell_type": "code",
   "execution_count": 6,
   "metadata": {},
   "outputs": [],
   "source": [
    "# Lists start at 0, and negative numbers are used to search in reserve\n",
    "last_ape = apes[-1]"
   ]
  },
  {
   "cell_type": "code",
   "execution_count": 9,
   "metadata": {},
   "outputs": [
    {
     "name": "stdout",
     "output_type": "stream",
     "text": [
      "['class', 'order']\n"
     ]
    }
   ],
   "source": [
    "# Save a range of multiple elements from a list using a colon\n",
    "ranks = [\"kingdom\",\"phylum\", \"class\", \"order\", \"family\"]\n",
    "# Ranges are inclusive at the beginning (includes 2)\n",
    "# Ranges are exclusive at the end (includes 5?)\n",
    "lower_ranks = ranks[2:5]\n",
    "print(lower_ranks)"
   ]
  },
  {
   "cell_type": "code",
   "execution_count": 10,
   "metadata": {},
   "outputs": [
    {
     "name": "stdout",
     "output_type": "stream",
     "text": [
      "['Homo sapiens', 'Pan troglodytes', 'Gorilla gorilla', 'Pan paniscus']\n"
     ]
    }
   ],
   "source": [
    "# Append lists using the .append method\n",
    "apes = [\"Homo sapiens\", \"Pan troglodytes\", \"Gorilla gorilla\"]\n",
    "apes.append(\"Pan paniscus\")\n",
    "print(apes)"
   ]
  },
  {
   "cell_type": "code",
   "execution_count": 12,
   "metadata": {},
   "outputs": [
    {
     "name": "stdout",
     "output_type": "stream",
     "text": [
      "There were 3 apes\n",
      "Now there are 4 apes\n"
     ]
    }
   ],
   "source": [
    "# Print lengths of original and appended lists\n",
    "apes = [\"Homo sapiens\", \"Pan troglodytes\", \"Gorilla gorilla\"]\n",
    "print(\"There were \" + str(len(apes)) + \" apes\")\n",
    "apes.append(\"Pan paniscus\")\n",
    "print(\"Now there are \" + str(len(apes)) + \" apes\")"
   ]
  },
  {
   "cell_type": "code",
   "execution_count": 13,
   "metadata": {},
   "outputs": [
    {
     "name": "stdout",
     "output_type": "stream",
     "text": [
      "3 apes\n",
      "2 monkeys\n",
      "5 primates\n"
     ]
    }
   ],
   "source": [
    "# Concatenate two lists using the + symbol\n",
    "apes = [\"Homo sapiens\", \"Pan troglodytes\", \"Gorilla gorilla\"]\n",
    "monkeys = [\"Papio ursinus\", \"Macaca mulatta\"]\n",
    "primates = apes + monkeys\n",
    "print(str(len(apes)) + \" apes\")\n",
    "print(str(len(monkeys)) + \" monkeys\")\n",
    "print(str(len(primates)) + \" primates\")"
   ]
  },
  {
   "cell_type": "code",
   "execution_count": 15,
   "metadata": {},
   "outputs": [
    {
     "name": "stdout",
     "output_type": "stream",
     "text": [
      "at the start : ['kingdom', 'phylum', 'class', 'order', 'family']\n",
      "after reversing : ['family', 'order', 'class', 'phylum', 'kingdom']\n",
      "after sorting : ['class', 'family', 'kingdom', 'order', 'phylum']\n"
     ]
    }
   ],
   "source": [
    "# The .append method works for a single element, and the .extend method works for multiple elements (i.e., a list)\n",
    "ranks = [\"kingdom\",\"phylum\", \"class\", \"order\", \"family\"]\n",
    "print(\"at the start : \" + str(ranks))\n",
    "# The .reverse method reverses the list\n",
    "ranks.reverse()\n",
    "print(\"after reversing : \" + str(ranks))\n",
    "# The .sort function sorts 1) strings alphabetically and 2) numbers in ascending ooorder\n",
    "ranks.sort()\n",
    "print(\"after sorting : \" + str(ranks))"
   ]
  },
  {
   "cell_type": "code",
   "execution_count": 17,
   "metadata": {},
   "outputs": [
    {
     "name": "stdout",
     "output_type": "stream",
     "text": [
      "Homo sapiens is an ape\n",
      "Pan troglodytes is an ape\n",
      "Gorilla gorilla is an ape\n"
     ]
    }
   ],
   "source": [
    "# My first for loop\n",
    "apes = [\"Homo sapiens\", \"Pan troglodytes\", \"Gorilla gorilla\"]\n",
    "for satan in apes:\n",
    "    print(satan + \" is an ape\")"
   ]
  },
  {
   "cell_type": "code",
   "execution_count": 18,
   "metadata": {},
   "outputs": [
    {
     "name": "stdout",
     "output_type": "stream",
     "text": [
      "Homo sapiens is an ape. Its name starts with H\n",
      "Its name has 12 letters\n",
      "Pan troglodytes is an ape. Its name starts with P\n",
      "Its name has 15 letters\n",
      "Gorilla gorilla is an ape. Its name starts with G\n",
      "Its name has 15 letters\n"
     ]
    }
   ],
   "source": [
    "# My second for loop\n",
    "apes = [\"Homo sapiens\", \"Pan troglodytes\", \"Gorilla gorilla\"]\n",
    "for satan in apes:\n",
    "    name_length = len(satan)\n",
    "    first_letter = satan[0]\n",
    "    print(satan + \" is an ape. Its name starts with \" + first_letter)\n",
    "    print(\"Its name has \" + str(name_length) + \" letters\")"
   ]
  },
  {
   "cell_type": "code",
   "execution_count": 20,
   "metadata": {},
   "outputs": [
    {
     "ename": "IndentationError",
     "evalue": "unindent does not match any outer indentation level (<tokenize>, line 5)",
     "output_type": "error",
     "traceback": [
      "\u001b[0;36m  File \u001b[0;32m\"<tokenize>\"\u001b[0;36m, line \u001b[0;32m5\u001b[0m\n\u001b[0;31m    first_letter = ape[0]\u001b[0m\n\u001b[0m    ^\u001b[0m\n\u001b[0;31mIndentationError\u001b[0m\u001b[0;31m:\u001b[0m unindent does not match any outer indentation level\n"
     ]
    }
   ],
   "source": [
    "# Symmetrical indentations matter\n",
    "apes = [\"Homo sapiens\", \"Pan troglodytes\", \"Gorilla gorilla\"]\n",
    "for ape in apes:\n",
    "    name_length = len(ape)\n",
    "  first_letter = ape[0]\n",
    "    print(ape + \" is an ape. Its name starts with \" + first_letter)\n",
    "    print(\"Its name has \" + str(name_length) + \" letters\")"
   ]
  },
  {
   "cell_type": "code",
   "execution_count": 21,
   "metadata": {},
   "outputs": [
    {
     "name": "stdout",
     "output_type": "stream",
     "text": [
      "one character is m\n",
      "one character is a\n",
      "one character is r\n",
      "one character is t\n",
      "one character is i\n",
      "one character is n\n"
     ]
    }
   ],
   "source": [
    "# Loops treat each character seperately in a string\n",
    "# Loops treat each element seperately in a list\n",
    "# Loops treat each line seperately in a file\n",
    "name = \"martin\"\n",
    "for character in name:\n",
    "   print(\"one character is \" + character)"
   ]
  },
  {
   "cell_type": "code",
   "execution_count": 22,
   "metadata": {},
   "outputs": [
    {
     "name": "stdout",
     "output_type": "stream",
     "text": [
      "['melanogaster', 'simulans', 'yakuba', 'ananassae']\n"
     ]
    }
   ],
   "source": [
    "# Splitting a string to make a list\n",
    "names = \"melanogaster,simulans,yakuba,ananassae\"\n",
    "species = names.split(\",\")\n",
    "print(str(species))"
   ]
  },
  {
   "cell_type": "code",
   "execution_count": 24,
   "metadata": {},
   "outputs": [
    {
     "name": "stdout",
     "output_type": "stream",
     "text": [
      "ACGTTTTGGGAACCACCA\n",
      "this works\n"
     ]
    }
   ],
   "source": [
    "# Iterating over lines a file\n",
    "# Do not use the read and loop methods in combination\n",
    "file = open(\"dna.txt\")\n",
    "for line in file:\n",
    "    print(line + \"this works\")"
   ]
  },
  {
   "cell_type": "code",
   "execution_count": 25,
   "metadata": {},
   "outputs": [
    {
     "name": "stdout",
     "output_type": "stream",
     "text": [
      "vls\n",
      "vlsp\n",
      "vlspa\n",
      "vlspad\n",
      "vlspadk\n",
      "vlspadkt\n",
      "vlspadktn\n",
      "vlspadktnv\n"
     ]
    }
   ],
   "source": [
    "# Looping over a range of alphanumeric characters\n",
    "protein = \"vlspadktnv\"\n",
    "stop_positions = [3,4,5,6,7,8,9,10]\n",
    "\n",
    "for stop in stop_positions:\n",
    "    substring = protein[0:stop]\n",
    "    print(substring)"
   ]
  },
  {
   "cell_type": "code",
   "execution_count": 26,
   "metadata": {},
   "outputs": [
    {
     "name": "stdout",
     "output_type": "stream",
     "text": [
      "0\n",
      "1\n",
      "2\n",
      "3\n",
      "4\n",
      "5\n"
     ]
    }
   ],
   "source": [
    "# Looping over a range of alphanumeric characters\n",
    "for number in range(6):\n",
    "    print(number)"
   ]
  },
  {
   "cell_type": "code",
   "execution_count": 27,
   "metadata": {},
   "outputs": [
    {
     "name": "stdout",
     "output_type": "stream",
     "text": [
      "3\n",
      "4\n",
      "5\n",
      "6\n",
      "7\n"
     ]
    }
   ],
   "source": [
    "# Looping over a range of alphanumeric characters\n",
    "# First number is inclusive, second number is exclusive\n",
    "for number in range(3, 8):\n",
    "    print(number)"
   ]
  },
  {
   "cell_type": "code",
   "execution_count": 28,
   "metadata": {},
   "outputs": [
    {
     "name": "stdout",
     "output_type": "stream",
     "text": [
      "2\n",
      "6\n",
      "10\n"
     ]
    }
   ],
   "source": [
    "# Looping over a range with a step size (beginning, end, step size)\n",
    "for number in range(2, 14, 4):\n",
    "    print(number)"
   ]
  },
  {
   "cell_type": "code",
   "execution_count": 13,
   "metadata": {},
   "outputs": [
    {
     "name": "stdout",
     "output_type": "stream",
     "text": [
      "ATCGATCGATCGATCGACTGACTAGTCATAGCTATGCATGTAGCTACTCGATCGATCGATCGATCGATCGATCGATCGATCGATCATGCTATCATCGATCGATATCGATGCATCGACTACTATTTCA\n",
      "\n",
      "ATCGATCGATCGATCCTCTGCGACTGACTAGTCATAGCTATGCATGTAGCTACTCGATCGATCGATCGATCGATCGATCGATCGATCGATCATGCTATCATCGATCGATATCGATGCATCGACTACTAT\n",
      "\n",
      "ATCGATCGATCGATTCCGAATCGACTGACTAGTCATAGCTATGCATGTAGCTACTCGATCGATCGATCGATCGATCGATCGATCGATCGATCATGCTATCATCGATCGATATCGATGCATCGACTACTAT\n",
      "\n",
      "ATCGATCGATCGATTTCTGCATCGACTGACTAGTCATAGCTATGCATGTAGCTACTCGATCGATCGATCGATCGATCGATCGATCGATCGATCATGCTATCATCGATCGATATCGATGCATCGACTACTAT\n",
      "\n",
      "ATCGATCGATCGAAATGCTCTCGACTGACTAGTCATAGCTATGCATGTAGCTACTCGATCGATCGATCGATCGATCGATCGATCGATCGATCATGCTATCATCGATCGATATCGATGCATCGACTACTAT\n",
      "114\n",
      "116\n",
      "117\n",
      "118\n",
      "116\n"
     ]
    }
   ],
   "source": [
    "### End of chapter exercises\n",
    "## Processing DNA in a file\n",
    "\n",
    "# The file input.txt contains a number of DNA sequences, one per line.\n",
    "# Each sequence starts with the same 14 base pair fragment –\n",
    "# a sequencing adapter that should have been removed.\n",
    "# Write a program that will (a) trim this adapter and\n",
    "# write the cleaned sequences to a new file and\n",
    "# (b) print the length of each sequence to the screen.\n",
    "\n",
    "# Create input file (input.txt)\n",
    "file = open(\"input.txt\")\n",
    "for theloveofgod in file:\n",
    "    print(theloveofgod)\n",
    "\n",
    "# Create output file (input_trim.txt)\n",
    "file_trimmed = open(\"input_trim.txt\", \"w\")\n",
    "\n",
    "# Remove sequencing adapter, save file, and print length of trimmed sequence\n",
    "file = open(\"input.txt\")\n",
    "for theloveofgod in file:\n",
    "    length = len(theloveofgod) # Determine end point\n",
    "    trim = theloveofgod[14:length] # Remove sequencing adapter\n",
    "    file_trimmed.write(trim) # Save trimmed file\n",
    "    print(str(len(trim))) # Convert to string and print sequence length\n",
    "    "
   ]
  },
  {
   "cell_type": "code",
   "execution_count": 131,
   "metadata": {},
   "outputs": [
    {
     "name": "stdout",
     "output_type": "stream",
     "text": [
      "1: CGTACCGTCGACGATGCTACGATCGTCGATCGTAGTCGATCATCGATCGATCG\n",
      "2: CGTACCGTCGACGATGCTACGATCGTCGATCGTAGTCGATCATCGATCGATCGCGATCGATCGATATCGATCGATATCATCGATGCATCGATCATCGATCGATCGATCGATCGA\n",
      "3: CGTACCGTCGACGATGCTACGATCGTCGATCGTAGTCGATCATCGATCGATCGCGATCGATCGATATCGATCGATATCATCGATGCATCGATCATCGATCGATCGATCGATCGACGATCGATCGATCGTAGCTAGCTAGCTAGATCGATCATCATCGTAGCTAGCTCGACTAGCTACGTACGATCGATGCATCGATCGTA\n",
      "4: CGTACCGTCGACGATGCTACGATCGTCGATCGTAGTCGATCATCGATCGATCGCGATCGATCGATATCGATCGATATCATCGATGCATCGATCATCGATCGATCGATCGATCGACGATCGATCGATCGTAGCTAGCTAGCTAGATCGATCATCATCGTAGCTAGCTCGACTAGCTACGTACGATCGATGCATCGATCGTACGATCGATCGATCGATCGATCGATCGATCGATCGATCGATCGTAGCTAGCTACGATCG\n",
      "4: CGTACCGTCGACGATGCTACGATCGTCGATCGTAGTCGATCATCGATCGATCGCGATCGATCGATATCGATCGATATCATCGATGCATCGATCATCGATCGATCGATCGATCGACGATCGATCGATCGTAGCTAGCTAGCTAGATCGATCATCATCGTAGCTAGCTCGACTAGCTACGTACGATCGATGCATCGATCGTACGATCGATCGATCGATCGATCGATCGATCGATCGATCGATCGTAGCTAGCTACGATCG\n"
     ]
    }
   ],
   "source": [
    "## Multiple exons from genomic data\n",
    "\n",
    "# The file genomic_dna.txt contains a section of genomic DNA,\n",
    "# and the file exons.txt contains a list of start/stop positions of exons.\n",
    "# Each exon is on a separate line and the start and stop positions\n",
    "# are separated by a comma. Write a program that will extract the exon\n",
    "# segments, concatenate them, and write them to a new file.\n",
    "\n",
    "# Open genomic_dna.txt\n",
    "genome = open(\"genomic_dna.txt\")\n",
    "genome = genome.read()\n",
    "\n",
    "# Open exons.txt\n",
    "exons = open(\"exons.txt\")\n",
    "\n",
    "# Create lists of start and end positions\n",
    "#start_positions = [5, 72, 190, 340]\n",
    "#end_positions = [58, 133, 276, 398]\n",
    "\n",
    "# Create empty string for exon_positions\n",
    "exon_all = \"\"\n",
    "\n",
    "# Create variable for exon_sequence\n",
    "exon_sequence = 0\n",
    "\n",
    "# Print exons.txt\n",
    "for line in exons:\n",
    "    positions = line.split(',') # Split list by \",\"\n",
    "    start_position = int(positions[0]) # Convert to integer\n",
    "    end_position = int(positions[1]) # Convert to integer\n",
    "    exon_positions = genome[start_position:end_position] # Select exons\n",
    "    #exon_all.append(exon_positions) # Doesn't work with object types\n",
    "    exon_all = exon_all + exon_positions # Manually append after each interation\n",
    "    exon_sequence += 1 # Create additive sequence for exons\n",
    "    print(str(exon_sequence) + \": \"+ exon_all)\n",
    "    exon_final = (str(exon_sequence) + \": \" + exon_all)\n",
    "\n",
    "# Write output file with all exon sequences\n",
    "exons_final = open(\"exons_final.txt\", \"w\")\n",
    "exons_final.write(exon_final)\n",
    "exons_final.close()\n",
    "\n",
    "# Check to see if it worked\n",
    "test = open(\"exons_final.txt\", \"r\")\n",
    "test2 = test.read()\n",
    "print(test2) # Only worked for fourth exon\n",
    "\n"
   ]
  },
  {
   "cell_type": "code",
   "execution_count": null,
   "metadata": {},
   "outputs": [],
   "source": []
  }
 ],
 "metadata": {
  "kernelspec": {
   "display_name": "Python 3",
   "language": "python",
   "name": "python3"
  },
  "language_info": {
   "codemirror_mode": {
    "name": "ipython",
    "version": 3
   },
   "file_extension": ".py",
   "mimetype": "text/x-python",
   "name": "python",
   "nbconvert_exporter": "python",
   "pygments_lexer": "ipython3",
   "version": "3.7.1"
  }
 },
 "nbformat": 4,
 "nbformat_minor": 2
}
