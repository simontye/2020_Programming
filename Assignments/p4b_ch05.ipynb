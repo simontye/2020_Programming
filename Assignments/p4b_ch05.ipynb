{
 "cells": [
  {
   "cell_type": "code",
   "execution_count": 2,
   "metadata": {},
   "outputs": [],
   "source": [
    "### Chapter 5"
   ]
  },
  {
   "cell_type": "code",
   "execution_count": 6,
   "metadata": {},
   "outputs": [],
   "source": [
    "## Within chapter exercises\n",
    "\n",
    "# Creating a get_at_content function\n",
    "def get_at_content(dna):\n",
    "    length = len(dna)\n",
    "    a_count = dna.count('A')\n",
    "    t_count = dna.count('T')\n",
    "    at_content = (a_count + t_count) / length\n",
    "    return at_content"
   ]
  },
  {
   "cell_type": "code",
   "execution_count": 7,
   "metadata": {},
   "outputs": [
    {
     "data": {
      "text/plain": [
       "0.5"
      ]
     },
     "execution_count": 7,
     "metadata": {},
     "output_type": "execute_result"
    }
   ],
   "source": [
    "# Running (calling) the function\n",
    "get_at_content(\"ATGACTGGACCA\")"
   ]
  },
  {
   "cell_type": "code",
   "execution_count": 9,
   "metadata": {},
   "outputs": [
    {
     "name": "stdout",
     "output_type": "stream",
     "text": [
      "AT content is 0.5\n"
     ]
    }
   ],
   "source": [
    "# Storing the result of the function as a variable\n",
    "at_content = get_at_content(\"ATGACTGGACCA\")\n",
    "\n",
    "# Printing the result of the function\n",
    "print(\"AT content is \" + str(get_at_content(\"ATGACTGGACCA\")))"
   ]
  },
  {
   "cell_type": "code",
   "execution_count": 10,
   "metadata": {},
   "outputs": [
    {
     "name": "stdout",
     "output_type": "stream",
     "text": [
      "0.45\n",
      "0.5294117647058824\n",
      "0.0\n"
     ]
    }
   ],
   "source": [
    "# Improvement 1: added rounding and uppercase/lowercase conversion\n",
    "def get_at_content(dna):\n",
    "    length = len(dna)\n",
    "    a_count = dna.count('A')\n",
    "    t_count = dna.count('T')\n",
    "    at_content = (a_count + t_count) / length\n",
    "    return at_content\n",
    "\n",
    "# Print results\n",
    "my_at_content = get_at_content(\"ATGCGCGATCGATCGAATCG\")\n",
    "print(str(my_at_content)) # Works\n",
    "print(get_at_content(\"ATGCATGCAACTGTAGC\")) # Too many decimal places\n",
    "print(get_at_content(\"aactgtagctagctagcagcgta\")) # Doesn't recognize lowercase"
   ]
  },
  {
   "cell_type": "code",
   "execution_count": 12,
   "metadata": {},
   "outputs": [
    {
     "name": "stdout",
     "output_type": "stream",
     "text": [
      "0.45\n",
      "0.53\n",
      "0.52\n"
     ]
    }
   ],
   "source": [
    "# Improvement 1: added rounding and uppercase/lowercase conversion\n",
    "def get_at_content(dna):\n",
    "    length = len(dna)\n",
    "    a_count = dna.upper().count('A')\n",
    "    t_count = dna.upper().count('T')\n",
    "    at_content = (a_count + t_count) / length\n",
    "    return round(at_content, 2)\n",
    "\n",
    "# Print results\n",
    "my_at_content = get_at_content(\"ATGCGCGATCGATCGAATCG\")\n",
    "print(str(my_at_content))\n",
    "print(get_at_content(\"ATGCATGCAACTGTAGC\"))\n",
    "print(get_at_content(\"aactgtagctagctagcagcgta\"))"
   ]
  },
  {
   "cell_type": "code",
   "execution_count": 13,
   "metadata": {},
   "outputs": [
    {
     "name": "stdout",
     "output_type": "stream",
     "text": [
      "0.5\n",
      "0.53\n",
      "0.529\n"
     ]
    }
   ],
   "source": [
    "# Improvement 2: added argument for significant figures\n",
    "def get_at_content(dna, sig_figs):\n",
    "    length = len(dna)\n",
    "    a_count = dna.upper().count('A')\n",
    "    t_count = dna.upper().count('T')\n",
    "    at_content = (a_count + t_count) / length\n",
    "    return round(at_content, sig_figs)\n",
    "\n",
    "# Print results\n",
    "test_dna = \"ATGCATGCAACTGTAGC\"\n",
    "print(get_at_content(test_dna, 1))\n",
    "print(get_at_content(test_dna, 2))\n",
    "print(get_at_content(test_dna, 3))"
   ]
  },
  {
   "cell_type": "code",
   "execution_count": 14,
   "metadata": {},
   "outputs": [
    {
     "data": {
      "text/plain": [
       "42"
      ]
     },
     "execution_count": 14,
     "metadata": {},
     "output_type": "execute_result"
    }
   ],
   "source": [
    "# Functions don't always have to take an argument\n",
    "def get_a_number():\n",
    "    return 42\n",
    "\n",
    "# Print results\n",
    "get_a_number()"
   ]
  },
  {
   "cell_type": "code",
   "execution_count": 15,
   "metadata": {},
   "outputs": [
    {
     "data": {
      "text/plain": [
       "0.57"
      ]
     },
     "execution_count": 15,
     "metadata": {},
     "output_type": "execute_result"
    }
   ],
   "source": [
    "# Functions don't always have to take an argument\n",
    "def get_at_content():\n",
    "    dna = \"ACTGATGCTAGCTA\"\n",
    "    length = len(dna)\n",
    "    a_count = dna.upper().count('A')\n",
    "    t_count = dna.upper().count('T')\n",
    "    at_content = (a_count + t_count) / length\n",
    "    return round(at_content, 2)\n",
    "\n",
    "# Print results\n",
    "get_at_content()"
   ]
  },
  {
   "cell_type": "code",
   "execution_count": 16,
   "metadata": {},
   "outputs": [
    {
     "name": "stdout",
     "output_type": "stream",
     "text": [
      "0.5\n"
     ]
    }
   ],
   "source": [
    "# Excluding the variable from the function (bad)\n",
    "def get_at_content():\n",
    "    length = len(dna)\n",
    "    a_count = dna.upper().count('A')\n",
    "    t_count = dna.upper().count('T')\n",
    "    at_content = (a_count + t_count) / length\n",
    "    return round(at_content, 2)\n",
    "\n",
    "# Print results\n",
    "dna = \"ACTGATCGATCG\"\n",
    "print(get_at_content())"
   ]
  },
  {
   "cell_type": "code",
   "execution_count": 17,
   "metadata": {},
   "outputs": [],
   "source": [
    "# Functions don't always have to return a value\n",
    "def print_at_content(dna):\n",
    "    length = len(dna)\n",
    "    a_count = dna.upper().count('A')\n",
    "    t_count = dna.upper().count('T')\n",
    "    at_content = (a_count + t_count) / length\n",
    "    print(str(round(at_content, 2)))"
   ]
  },
  {
   "cell_type": "code",
   "execution_count": 24,
   "metadata": {},
   "outputs": [
    {
     "name": "stdout",
     "output_type": "stream",
     "text": [
      "0.45\n",
      "0.455\n",
      "0.4545\n"
     ]
    }
   ],
   "source": [
    "# Functions can be called with named arguments\n",
    "# Order of the arugments is key\n",
    "# Keyword arguments in python3 is akin to function arguments in R\n",
    "def get_at_content(dna, sig_figs=2):\n",
    "    length = len(dna)\n",
    "    a_count = dna.upper().count('A')\n",
    "    t_count = dna.upper().count('T')\n",
    "    at_content = (a_count + t_count) / length\n",
    "    return round(at_content, sig_figs)\n",
    "\n",
    "\n",
    "print(get_at_content(\"ATCGTGACTCG\"))\n",
    "print(get_at_content(\"ATCGTGACTCG\", 3))\n",
    "print(get_at_content(\"ATCGTGACTCG\", sig_figs=4))"
   ]
  },
  {
   "cell_type": "code",
   "execution_count": 26,
   "metadata": {},
   "outputs": [
    {
     "ename": "AssertionError",
     "evalue": "",
     "output_type": "error",
     "traceback": [
      "\u001b[0;31m---------------------------------------------------------------------------\u001b[0m",
      "\u001b[0;31mAssertionError\u001b[0m                            Traceback (most recent call last)",
      "\u001b[0;32m<ipython-input-26-25c5d82e0a2d>\u001b[0m in \u001b[0;36m<module>\u001b[0;34m\u001b[0m\n\u001b[1;32m      5\u001b[0m \u001b[0;32massert\u001b[0m \u001b[0mget_at_content\u001b[0m\u001b[0;34m(\u001b[0m\u001b[0;34m\"ATGC\"\u001b[0m\u001b[0;34m)\u001b[0m \u001b[0;34m==\u001b[0m \u001b[0;36m0.5\u001b[0m\u001b[0;34m\u001b[0m\u001b[0;34m\u001b[0m\u001b[0m\n\u001b[1;32m      6\u001b[0m \u001b[0;34m\u001b[0m\u001b[0m\n\u001b[0;32m----> 7\u001b[0;31m \u001b[0;32massert\u001b[0m \u001b[0mget_at_content\u001b[0m\u001b[0;34m(\u001b[0m\u001b[0;34m\"ATGCNNNNNNNNNN\"\u001b[0m\u001b[0;34m)\u001b[0m \u001b[0;34m==\u001b[0m \u001b[0;36m0.5\u001b[0m\u001b[0;34m\u001b[0m\u001b[0;34m\u001b[0m\u001b[0m\n\u001b[0m\u001b[1;32m      8\u001b[0m \u001b[0;34m\u001b[0m\u001b[0m\n\u001b[1;32m      9\u001b[0m \u001b[0;31m# True = no response\u001b[0m\u001b[0;34m\u001b[0m\u001b[0;34m\u001b[0m\u001b[0;34m\u001b[0m\u001b[0m\n",
      "\u001b[0;31mAssertionError\u001b[0m: "
     ]
    }
   ],
   "source": [
    "# Assert tool\n",
    "# An assertion consists of the word assert, folllowed by a call to our function,\n",
    "# then two equals signs, then the result that we expect\n",
    "\n",
    "assert get_at_content(\"ATGC\") == 0.5\n",
    "\n",
    "assert get_at_content(\"ATGCNNNNNNNNNN\") == 0.5\n",
    "\n",
    "# True = no response\n",
    "# False = AssertionError"
   ]
  },
  {
   "cell_type": "code",
   "execution_count": 28,
   "metadata": {},
   "outputs": [],
   "source": [
    "# Improvement 3: remove non-ATCG characters\n",
    "def get_at_content(dna, sig_figs=2):\n",
    "    dna = dna.replace('N', '')\n",
    "    length = len(dna)\n",
    "    a_count = dna.upper().count('A')\n",
    "    t_count = dna.upper().count('T')\n",
    "    at_content = (a_count + t_count) / length\n",
    "    return round(at_content, sig_figs)\n",
    "\n",
    "# Test assertion\n",
    "assert get_at_content(\"ATGCNNNNNNNNNN\") == 0.5"
   ]
  },
  {
   "cell_type": "code",
   "execution_count": 29,
   "metadata": {},
   "outputs": [],
   "source": [
    "# Testing different assertions\n",
    "assert get_at_content(\"A\") == 1\n",
    "assert get_at_content(\"G\") == 0\n",
    "assert get_at_content(\"ATGC\") == 0.5\n",
    "assert get_at_content(\"AGG\") == 0.33\n",
    "assert get_at_content(\"AGG\", 1) == 0.3\n",
    "assert get_at_content(\"AGG\", 5) == 0.33333"
   ]
  },
  {
   "cell_type": "code",
   "execution_count": 95,
   "metadata": {},
   "outputs": [
    {
     "name": "stdout",
     "output_type": "stream",
     "text": [
      "The number of amino acid occurences is: 1\n",
      "The protein sequence length is: 20\n",
      "The percent of M in the protein sequence MSRSLLLRFLLFLLLLPPLP is: 5.0\n"
     ]
    }
   ],
   "source": [
    "### End of chapter exercises\n",
    "## Percentage of amino acid residues, part one\n",
    "\n",
    "# Write a function that takes two arguments – a protein sequence and an amino acid residue code –\n",
    "# and returns the percentage of the protein that the amino acid makes up.\n",
    "\n",
    "# Save protein sequence and code for tests\n",
    "protein = \"MSRSLLLRFLLFLLLLPPLP\"\n",
    "code = \"M\"\n",
    "\n",
    "# Count the number of amino acid occurences\n",
    "code_count = protein.count(code)\n",
    "print(\"The number of amino acid occurences is: \" + str(code_count))\n",
    "\n",
    "# Calculate the length of the protein sequence\n",
    "protein_length = len(protein)\n",
    "print(\"The protein sequence length is: \" + str(protein_length))\n",
    "\n",
    "# Calculate the percentage of amino acid occurences in the protein sequence\n",
    "protein_per = code_count * 100 / protein_length\n",
    "print(\"The percent of \" + str(code) + \" in the protein sequence \" + str(protein) + \" is: \" + str(protein_per))"
   ]
  },
  {
   "cell_type": "code",
   "execution_count": 138,
   "metadata": {},
   "outputs": [
    {
     "name": "stdout",
     "output_type": "stream",
     "text": [
      "5.0\n"
     ]
    }
   ],
   "source": [
    "# Write function\n",
    "def get_aa_residues(protein, code):\n",
    "    protein = protein.upper()\n",
    "    code = code.upper()\n",
    "    code_count = protein.count(code)\n",
    "    protein_length = len(protein)\n",
    "    protein_per = code_count * 100 / protein_length\n",
    "    return(protein_per)\n",
    "\n",
    "# Test function\n",
    "print(get_aa_residues(protein, code))\n",
    "\n",
    "# Test assertions\n",
    "assert get_aa_residues(protein, \"M\") == 5\n",
    "assert get_aa_residues(protein, \"r\") == 10\n",
    "assert get_aa_residues(protein, \"L\") == 50\n",
    "assert get_aa_residues(protein, \"Y\") == 0"
   ]
  },
  {
   "cell_type": "code",
   "execution_count": 217,
   "metadata": {},
   "outputs": [
    {
     "name": "stdout",
     "output_type": "stream",
     "text": [
      "5.0\n",
      "10.0\n",
      "10.0\n",
      "10.0\n",
      "50.0\n",
      "50.0\n",
      "50.0\n",
      "10.0\n",
      "10.0\n",
      "50.0\n",
      "50.0\n",
      "10.0\n",
      "50.0\n",
      "50.0\n",
      "50.0\n",
      "50.0\n",
      "15.0\n",
      "15.0\n",
      "50.0\n",
      "15.0\n"
     ]
    }
   ],
   "source": [
    "## Percentage of amino acid residues, part two\n",
    "\n",
    "# Modify the function from part one so that it accepts a list of amino acid residues\n",
    "# rather than a single one. If no list is given, the function should return the\n",
    "# percentage of hydrophobic amino acid residues (A, I, L, M, F, W, Y and V).\n",
    "\n",
    "# Save protein sequence, list of amino acids, and list of hydrophobic amino acid residues\n",
    "protein = \"MSRSLLLRFLLFLLLLPPLP\"\n",
    "code_list = [\"M\", \"L\", \"F\", \"S\"]\n",
    "#code_list = [\"M\"]\n",
    "hydro_list = [\"A\", \"I\", \"L\", \"M\", \"F\", \"W\", \"Y\", \"V\"]\n",
    "\n",
    "# Convert protein sequence into a list\n",
    "protein_list = list(protein_list)\n",
    "\n",
    "# Test\n",
    "#print(aa_list[0])\n",
    "#print(protein_list[0])\n",
    "\n",
    "# Convert list to uppercase\n",
    "#protein_list = list(x.upper() for x in protein_list)\n",
    "\n",
    "# Test\n",
    "#print(protein_list[1])\n",
    "\n",
    "# Count proteins in list\n",
    "#code_count = protein_list.count(code_list[1])\n",
    "\n",
    "# Test\n",
    "#print(code_count)\n",
    "\n",
    "# Test\n",
    "#for x in protein_list:\n",
    "#    if x in code_list:\n",
    "#        print(x)\n",
    "\n",
    "# Count proteins for list: version 2\n",
    "#for x in protein_list:\n",
    "#    code_count = protein_list.count(x)\n",
    "#    print(code_count)\n",
    "\n",
    "# Save protein sequence, list of amino acids, and list of hydrophobic amino acid residues\n",
    "protein = \"MSRSLLLRFLLFLLLLPPLP\"\n",
    "code_list = [\"M\", \"L\", \"F\", \"S\"]\n",
    "#code_list = [\"M\"]\n",
    "hydro_list = [\"A\", \"I\", \"L\", \"M\", \"F\", \"W\", \"Y\", \"V\"]\n",
    "\n",
    "# Convert protein sequence into a list\n",
    "protein_list = list(protein_list)\n",
    "\n",
    "# Write function\n",
    "def get_aa_residues2(protein_list, code_list):\n",
    "    protein_list2 = list(x.upper() for x in protein_list)\n",
    "    code_list2 = list(x.upper() for x in code_list)\n",
    "    protein_length = len(protein_list2)\n",
    "    for x in protein_list2:\n",
    "        if len(code_list2) > 1:\n",
    "            code_count = protein_list2.count(x)\n",
    "            protein_per = code_count * 100 / protein_length\n",
    "            print(protein_per)\n",
    "        else:\n",
    "            if x in code_list2:\n",
    "                hydro_sum = protein_list2.count(x)\n",
    "                hydro_per = hydro_sum * 100 / protein_length\n",
    "                hydro_per = int(hydro_per)\n",
    "                print(hydro_per)\n",
    "\n",
    "## Test function\n",
    "get_aa_residues2(protein_list, code_list)"
   ]
  },
  {
   "cell_type": "code",
   "execution_count": 215,
   "metadata": {},
   "outputs": [
    {
     "name": "stdout",
     "output_type": "stream",
     "text": [
      "5\n"
     ]
    },
    {
     "ename": "AssertionError",
     "evalue": "",
     "output_type": "error",
     "traceback": [
      "\u001b[0;31m---------------------------------------------------------------------------\u001b[0m",
      "\u001b[0;31mAssertionError\u001b[0m                            Traceback (most recent call last)",
      "\u001b[0;32m<ipython-input-215-616e2aaf98c6>\u001b[0m in \u001b[0;36m<module>\u001b[0;34m\u001b[0m\n\u001b[1;32m      1\u001b[0m \u001b[0;31m# Test assertions\u001b[0m\u001b[0;34m\u001b[0m\u001b[0;34m\u001b[0m\u001b[0;34m\u001b[0m\u001b[0m\n\u001b[0;32m----> 2\u001b[0;31m \u001b[0;32massert\u001b[0m \u001b[0mget_aa_residues2\u001b[0m\u001b[0;34m(\u001b[0m\u001b[0;34m\"MSRSLLLRFLLFLLLLPPLP\"\u001b[0m\u001b[0;34m,\u001b[0m \u001b[0;34m[\u001b[0m\u001b[0;34m\"M\"\u001b[0m\u001b[0;34m]\u001b[0m\u001b[0;34m)\u001b[0m \u001b[0;34m==\u001b[0m \u001b[0;36m5\u001b[0m\u001b[0;34m\u001b[0m\u001b[0;34m\u001b[0m\u001b[0m\n\u001b[0m\u001b[1;32m      3\u001b[0m \u001b[0;32massert\u001b[0m \u001b[0mget_aa_residues2\u001b[0m\u001b[0;34m(\u001b[0m\u001b[0;34m\"MSRSLLLRFLLFLLLLPPLP\"\u001b[0m\u001b[0;34m,\u001b[0m \u001b[0;34m[\u001b[0m\u001b[0;34m'M'\u001b[0m\u001b[0;34m,\u001b[0m \u001b[0;34m'L'\u001b[0m\u001b[0;34m]\u001b[0m\u001b[0;34m)\u001b[0m \u001b[0;34m==\u001b[0m \u001b[0;36m55\u001b[0m\u001b[0;34m\u001b[0m\u001b[0;34m\u001b[0m\u001b[0m\n\u001b[1;32m      4\u001b[0m \u001b[0;32massert\u001b[0m \u001b[0mget_aa_residues2\u001b[0m\u001b[0;34m(\u001b[0m\u001b[0;34m\"MSRSLLLRFLLFLLLLPPLP\"\u001b[0m\u001b[0;34m,\u001b[0m \u001b[0;34m[\u001b[0m\u001b[0;34m'F'\u001b[0m\u001b[0;34m,\u001b[0m \u001b[0;34m'S'\u001b[0m\u001b[0;34m,\u001b[0m \u001b[0;34m'L'\u001b[0m\u001b[0;34m]\u001b[0m\u001b[0;34m)\u001b[0m \u001b[0;34m==\u001b[0m \u001b[0;36m70\u001b[0m\u001b[0;34m\u001b[0m\u001b[0;34m\u001b[0m\u001b[0m\n\u001b[1;32m      5\u001b[0m \u001b[0;32massert\u001b[0m \u001b[0mget_aa_residues2\u001b[0m\u001b[0;34m(\u001b[0m\u001b[0;34m\"MSRSLLLRFLLFLLLLPPLP\"\u001b[0m\u001b[0;34m)\u001b[0m \u001b[0;34m==\u001b[0m \u001b[0;36m65\u001b[0m\u001b[0;34m\u001b[0m\u001b[0;34m\u001b[0m\u001b[0m\n",
      "\u001b[0;31mAssertionError\u001b[0m: "
     ]
    }
   ],
   "source": [
    "# Test assertions\n",
    "assert get_aa_residues2(\"MSRSLLLRFLLFLLLLPPLP\", [\"M\"]) == 5\n",
    "assert get_aa_residues2(\"MSRSLLLRFLLFLLLLPPLP\", ['M', 'L']) == 55\n",
    "assert get_aa_residues2(\"MSRSLLLRFLLFLLLLPPLP\", ['F', 'S', 'L']) == 70\n",
    "assert get_aa_residues2(\"MSRSLLLRFLLFLLLLPPLP\") == 65"
   ]
  },
  {
   "cell_type": "code",
   "execution_count": null,
   "metadata": {},
   "outputs": [],
   "source": []
  }
 ],
 "metadata": {
  "kernelspec": {
   "display_name": "Python 3",
   "language": "python",
   "name": "python3"
  },
  "language_info": {
   "codemirror_mode": {
    "name": "ipython",
    "version": 3
   },
   "file_extension": ".py",
   "mimetype": "text/x-python",
   "name": "python",
   "nbconvert_exporter": "python",
   "pygments_lexer": "ipython3",
   "version": "3.7.6"
  }
 },
 "nbformat": 4,
 "nbformat_minor": 4
}
