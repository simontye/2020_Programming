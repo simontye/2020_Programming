{
 "cells": [
  {
   "cell_type": "code",
   "execution_count": 5,
   "metadata": {},
   "outputs": [],
   "source": [
    "### Chapter 3\n",
    "## Within chapter exercises"
   ]
  },
  {
   "cell_type": "code",
   "execution_count": 7,
   "metadata": {},
   "outputs": [
    {
     "name": "stdout",
     "output_type": "stream",
     "text": [
      "ACGTTGCA\n"
     ]
    }
   ],
   "source": [
    "## File (methods) example\n",
    "my_file = open(\"dna.txt\") # Load file as a file object\n",
    "file_contents = my_file.read() # Read file object as file contents\n",
    "print(file_contents) # Print file contents"
   ]
  },
  {
   "cell_type": "code",
   "execution_count": 6,
   "metadata": {},
   "outputs": [
    {
     "name": "stdout",
     "output_type": "stream",
     "text": [
      "abcdefg\n",
      "43\n"
     ]
    }
   ],
   "source": [
    "## String example\n",
    "my_string = 'abcdefg' # Create variable\n",
    "print(my_string)\n",
    "my_number = 42 # Create number variable\n",
    "print(my_number + 1)"
   ]
  },
  {
   "cell_type": "code",
   "execution_count": null,
   "metadata": {},
   "outputs": [],
   "source": [
    "## File (methods) example 2\n",
    "my_file_name = \"dna.txt\" # Store string as variable\n",
    "my_file = open(my_file_name) # Store variable as file object\n",
    "my_file_contents = my_file.read() # Store string as variable"
   ]
  },
  {
   "cell_type": "code",
   "execution_count": null,
   "metadata": {},
   "outputs": [],
   "source": [
    "## Variables are arbitrary\n",
    "apple = \"dna.txt\"\n",
    "banana = open(apple)\n",
    "grape = banana.read()"
   ]
  },
  {
   "cell_type": "code",
   "execution_count": 9,
   "metadata": {},
   "outputs": [
    {
     "ename": "AttributeError",
     "evalue": "'str' object has no attribute 'read'",
     "output_type": "error",
     "traceback": [
      "\u001b[0;31m---------------------------------------------------------------------------\u001b[0m",
      "\u001b[0;31mAttributeError\u001b[0m                            Traceback (most recent call last)",
      "\u001b[0;32m<ipython-input-9-4272a9c60736>\u001b[0m in \u001b[0;36m<module>\u001b[0;34m\u001b[0m\n\u001b[1;32m      1\u001b[0m \u001b[0;31m# Read method works for strings, not file objects\u001b[0m\u001b[0;34m\u001b[0m\u001b[0;34m\u001b[0m\u001b[0;34m\u001b[0m\u001b[0m\n\u001b[1;32m      2\u001b[0m \u001b[0mmy_file_name\u001b[0m \u001b[0;34m=\u001b[0m \u001b[0;34m\"dna.txt\"\u001b[0m\u001b[0;34m\u001b[0m\u001b[0;34m\u001b[0m\u001b[0m\n\u001b[0;32m----> 3\u001b[0;31m \u001b[0mmy_contents\u001b[0m \u001b[0;34m=\u001b[0m \u001b[0mmy_file_name\u001b[0m\u001b[0;34m.\u001b[0m\u001b[0mread\u001b[0m\u001b[0;34m(\u001b[0m\u001b[0;34m)\u001b[0m\u001b[0;34m\u001b[0m\u001b[0;34m\u001b[0m\u001b[0m\n\u001b[0m",
      "\u001b[0;31mAttributeError\u001b[0m: 'str' object has no attribute 'read'"
     ]
    }
   ],
   "source": [
    "## Error: read method works for strings, not file objects\n",
    "my_file_name = \"dna.txt\"\n",
    "my_contents = my_file_name.read() # Error because it is a file name, not file object"
   ]
  },
  {
   "cell_type": "code",
   "execution_count": 5,
   "metadata": {},
   "outputs": [
    {
     "data": {
      "text/plain": [
       "'ACGTTGCA'"
      ]
     },
     "execution_count": 5,
     "metadata": {},
     "output_type": "execute_result"
    }
   ],
   "source": [
    "## Solution: read method works for strings, not file objects\n",
    "my_file_name = \"dna.txt\"\n",
    "my_file = open(my_file_name)\n",
    "my_file.read()"
   ]
  },
  {
   "cell_type": "code",
   "execution_count": 7,
   "metadata": {},
   "outputs": [
    {
     "name": "stdout",
     "output_type": "stream",
     "text": [
      "<_io.TextIOWrapper name='dna.txt' mode='r' encoding='UTF-8'>\n"
     ]
    }
   ],
   "source": [
    "## Error: printing file object rather than file contents\n",
    "my_file_name = \"dna.txt\"\n",
    "my_file = open(my_file_name)\n",
    "print(my_file) # Error because it is a file object, not file contents"
   ]
  },
  {
   "cell_type": "code",
   "execution_count": 9,
   "metadata": {},
   "outputs": [
    {
     "name": "stdout",
     "output_type": "stream",
     "text": [
      "ACGTTGCA\n"
     ]
    }
   ],
   "source": [
    "## Solution: printing file object rather than file contents\n",
    "my_file_name = \"dna.txt\"\n",
    "my_file = open(my_file_name)\n",
    "file_contents = my_file.read() # Read file object as file contents\n",
    "print(file_contents)"
   ]
  },
  {
   "cell_type": "code",
   "execution_count": 12,
   "metadata": {},
   "outputs": [
    {
     "name": "stdout",
     "output_type": "stream",
     "text": [
      "sequence is ACGTTGCA and length is 8\n"
     ]
    }
   ],
   "source": [
    "## Open file, remove linebreak, and print length\n",
    "my_file = open(\"dna.txt\")\n",
    "my_dna = my_file.read().rstrip(\"\\n\")\n",
    "dna_length = len(my_dna)\n",
    "print(\"sequence is \" + my_dna + \" and length is \" + str(dna_length))"
   ]
  },
  {
   "cell_type": "code",
   "execution_count": 13,
   "metadata": {},
   "outputs": [
    {
     "ename": "FileNotFoundError",
     "evalue": "[Errno 2] No such file or directory: 'dna2.txt'",
     "output_type": "error",
     "traceback": [
      "\u001b[0;31m---------------------------------------------------------------------------\u001b[0m",
      "\u001b[0;31mFileNotFoundError\u001b[0m                         Traceback (most recent call last)",
      "\u001b[0;32m<ipython-input-13-a739ea210c4e>\u001b[0m in \u001b[0;36m<module>\u001b[0;34m\u001b[0m\n\u001b[1;32m      1\u001b[0m \u001b[0;31m# Error: file does not exist\u001b[0m\u001b[0;34m\u001b[0m\u001b[0;34m\u001b[0m\u001b[0;34m\u001b[0m\u001b[0m\n\u001b[0;32m----> 2\u001b[0;31m \u001b[0mmy_file\u001b[0m \u001b[0;34m=\u001b[0m \u001b[0mopen\u001b[0m\u001b[0;34m(\u001b[0m\u001b[0;34m\"dna2.txt\"\u001b[0m\u001b[0;34m)\u001b[0m\u001b[0;34m\u001b[0m\u001b[0;34m\u001b[0m\u001b[0m\n\u001b[0m",
      "\u001b[0;31mFileNotFoundError\u001b[0m: [Errno 2] No such file or directory: 'dna2.txt'"
     ]
    }
   ],
   "source": [
    "## Error: file does not exist\n",
    "my_file = open(\"dna2.txt\")"
   ]
  },
  {
   "cell_type": "code",
   "execution_count": 21,
   "metadata": {},
   "outputs": [
    {
     "name": "stdout",
     "output_type": "stream",
     "text": [
      "Hello world\n"
     ]
    }
   ],
   "source": [
    "## Writing to files\n",
    "# open function + \"r\" for read (default), \"w\" for write, or \"a\" for append\n",
    "my_file = open(\"out.txt\", \"w\")\n",
    "my_file.write(\"Hello world\")\n",
    "my_file = open(\"out.txt\")\n",
    "my_file = my_file.read()\n",
    "print(my_file)"
   ]
  },
  {
   "cell_type": "code",
   "execution_count": 33,
   "metadata": {},
   "outputs": [
    {
     "data": {
      "text/plain": [
       "3"
      ]
     },
     "execution_count": 33,
     "metadata": {},
     "output_type": "execute_result"
    }
   ],
   "source": [
    "## Any string may be used with the write function\n",
    "my_file = open(\"out.txt\", \"w\")\n",
    "my_variable = \"XXX\"\n",
    "my_file.write(\"abc\" + \"def\")\n",
    "my_file.write(str(len('AGTGCTAG')))\n",
    "my_file.write(\"ATGC\".replace('A', 'T'))\n",
    "my_file.write(\"ATGC\".lower())\n",
    "my_file.write(my_variable)"
   ]
  },
  {
   "cell_type": "code",
   "execution_count": 34,
   "metadata": {},
   "outputs": [],
   "source": [
    "## Closing files\n",
    "my_file = open(\"out.txt\", \"w\") # Function\n",
    "my_file.write(\"Hello world\")\n",
    "my_file.close() # Method"
   ]
  },
  {
   "cell_type": "code",
   "execution_count": 36,
   "metadata": {},
   "outputs": [],
   "source": [
    "## Opening files from paths\n",
    "my_file = open(\"/Users/simontye/Documents/Research/Courses/Programming/Assignments/dna.txt\")"
   ]
  },
  {
   "cell_type": "code",
   "execution_count": 55,
   "metadata": {},
   "outputs": [
    {
     "name": "stdout",
     "output_type": "stream",
     "text": [
      "Exons:ATCGATCGATCGATCGACTGACTAGTCATAGCTATGCATGTAGCTACTCGATCGATCGATCGATCATCGATCGATATCGATGCATCGACTACTAT\n",
      "Intron:TCGATCGATCGATCGATCGATCATGC\n"
     ]
    }
   ],
   "source": [
    "## End of chapter exercises\n",
    "# Question 1: splitting genomic dna\n",
    "\n",
    "# Create genomic_dna.txt\n",
    "genomic_dna = open(\"genomic_dna.txt\", \"w\")\n",
    "genomic_dna.write(\"ATCGATCGATCGATCGACTGACTAGTCATAGCTATGCATGTAGCTACTCGATCGATCGATCGATCGATCGATCGATCGATCGATCATGCTATCATCGATCGATATCGATGCATCGACTACTAT\")\n",
    "genomic_dna = open(\"genomic_dna.txt\")\n",
    "genomic_dna = genomic_dna.read()\n",
    "\n",
    "# Manually separate exons and intron\n",
    "genomic_exon1 = genomic_dna[0:62]\n",
    "genomic_intron1 = genomic_dna[63:89]\n",
    "genomic_exon2 = genomic_dna[90:200]\n",
    "\n",
    "# Create exon/intron.txt\n",
    "genomic_exon = open(\"genomic_exon.txt\", \"w\")\n",
    "genomic_intron = open(\"genomic_intron.txt\", \"w\")\n",
    "\n",
    "# Write exon/intron.txt\n",
    "genomic_exon.write(genomic_exon1 + genomic_exon2)\n",
    "genomic_intron.write(genomic_intron1)\n",
    "\n",
    "# Re-open exon/intron.txt\n",
    "genomic_exon = open(\"genomic_exon.txt\")\n",
    "genomic_intron = open(\"genomic_intron.txt\")\n",
    "\n",
    "# Read updated exon/intron txt\n",
    "genomic_exon = genomic_exon.read()\n",
    "genomic_intron = genomic_intron.read()\n",
    "\n",
    "# Print files for verification\n",
    "print(\"Exons:\" + genomic_exon)\n",
    "\n",
    "print(\"Intron:\" + genomic_intron)"
   ]
  },
  {
   "cell_type": "code",
   "execution_count": 74,
   "metadata": {},
   "outputs": [
    {
     "name": "stdout",
     "output_type": "stream",
     "text": [
      ">ABC123\n",
      "ATCGTACGATCGATCGATCGCTAGACGTATCG\n",
      ">DEF456\n",
      "ACTGATCGACGATCGATCGATCACGACT\n",
      ">HIJ789\n",
      "ACTGACACTGTACTGTACATGTG\n",
      ">ABC123\n",
      "ATCGTACGATCGATCGATCGCTAGACGTATCG\n",
      ">DEF456\n",
      "ACTGATCGACGATCGATCGATCACGACT\n",
      ">HIJ789\n",
      "ACTGACACTGTACTGTACATGTG\n"
     ]
    }
   ],
   "source": [
    "# Question 2: writing a FASTA file\n",
    "\n",
    "# Create ABC123.fasta\n",
    "ABC123_fasta = open(\"ABC123.fasta\", \"w\")\n",
    "ABC123_fasta.write(\">ABC123\\n\" + \"ATCGTACGATCGATCGATCGCTAGACGTATCG\")\n",
    "ABC123_fasta = open(\"ABC123.fasta\")\n",
    "ABC123_fasta = ABC123_fasta.read()\n",
    "print(ABC123_fasta)\n",
    "\n",
    "# Create DEF456.fasta\n",
    "DEF456 = \"actgatcgacgatcgatcgatcacgact\"\n",
    "DEF456 = DEF456.upper()\n",
    "DEF456_fasta = open(\"DEF456.fasta\", \"w\")\n",
    "DEF456_fasta.write(\">DEF456\\n\" + DEF456)\n",
    "DEF456_fasta = open(\"DEF456.fasta\")\n",
    "DEF456_fasta = DEF456_fasta.read()\n",
    "print(DEF456_fasta)\n",
    "\n",
    "# Create HIJ789.fasta\n",
    "HIJ789 = \"ACTGAC-ACTGT--ACTGTA----CATGTG\"\n",
    "HIJ789 = HIJ789.replace(\"-\", \"\")\n",
    "HIJ789_fasta = open(\"HIJ789.fasta\", \"w\")\n",
    "HIJ789_fasta.write(\">HIJ789\\n\" + HIJ789)\n",
    "HIJ789_fasta = open(\"HIJ789.fasta\")\n",
    "HIJ789_fasta = HIJ789_fasta.read()\n",
    "print(HIJ789_fasta)\n",
    "\n",
    "# Combine outputs into single file\n",
    "combined_fasta = open(\"combined.fasta\", \"w\")\n",
    "combined_fasta.write(\">ABC123\\n\" + \"ATCGTACGATCGATCGATCGCTAGACGTATCG\\n\" + \">DEF456\\n\" + DEF456 + \"\\n\" + \">HIJ789\\n\" + HIJ789)\n",
    "combined_fasta = open(\"combined.fasta\")\n",
    "combined_fasta = combined_fasta.read()\n",
    "print(combined_fasta)"
   ]
  },
  {
   "cell_type": "code",
   "execution_count": 75,
   "metadata": {},
   "outputs": [
    {
     "name": "stdout",
     "output_type": "stream",
     "text": [
      ">ABC123\n",
      "ATCGTACGATCGATCGATCGCTAGACGTATCG\n",
      ">DEF456\n",
      "ACTGATCGACGATCGATCGATCACGACT\n",
      ">HIJ789\n",
      "ACTGACACTGTACTGTACATGTG\n"
     ]
    }
   ],
   "source": [
    "# Question 3: writing multiple FASTA files\n",
    "\n",
    "# Create ABC123.fasta\n",
    "ABC123_fasta = open(\"ABC123.fasta\", \"w\")\n",
    "ABC123_fasta.write(\">ABC123\\n\" + \"ATCGTACGATCGATCGATCGCTAGACGTATCG\")\n",
    "ABC123_fasta = open(\"ABC123.fasta\")\n",
    "ABC123_fasta = ABC123_fasta.read()\n",
    "print(ABC123_fasta)\n",
    "\n",
    "# Create DEF456.fasta\n",
    "DEF456 = \"actgatcgacgatcgatcgatcacgact\"\n",
    "DEF456 = DEF456.upper()\n",
    "DEF456_fasta = open(\"DEF456.fasta\", \"w\")\n",
    "DEF456_fasta.write(\">DEF456\\n\" + DEF456)\n",
    "DEF456_fasta = open(\"DEF456.fasta\")\n",
    "DEF456_fasta = DEF456_fasta.read()\n",
    "print(DEF456_fasta)\n",
    "\n",
    "# Create HIJ789.fasta\n",
    "HIJ789 = \"ACTGAC-ACTGT--ACTGTA----CATGTG\"\n",
    "HIJ789 = HIJ789.replace(\"-\", \"\")\n",
    "HIJ789_fasta = open(\"HIJ789.fasta\", \"w\")\n",
    "HIJ789_fasta.write(\">HIJ789\\n\" + HIJ789)\n",
    "HIJ789_fasta = open(\"HIJ789.fasta\")\n",
    "HIJ789_fasta = HIJ789_fasta.read()\n",
    "print(HIJ789_fasta)"
   ]
  }
 ],
 "metadata": {
  "kernelspec": {
   "display_name": "Python 3",
   "language": "python",
   "name": "python3"
  },
  "language_info": {
   "codemirror_mode": {
    "name": "ipython",
    "version": 3
   },
   "file_extension": ".py",
   "mimetype": "text/x-python",
   "name": "python",
   "nbconvert_exporter": "python",
   "pygments_lexer": "ipython3",
   "version": "3.7.1"
  }
 },
 "nbformat": 4,
 "nbformat_minor": 2
}
