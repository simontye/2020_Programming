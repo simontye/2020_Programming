{
 "cells": [
  {
   "cell_type": "code",
   "execution_count": 1,
   "metadata": {},
   "outputs": [],
   "source": [
    "### Chapter 9"
   ]
  },
  {
   "cell_type": "code",
   "execution_count": 21,
   "metadata": {},
   "outputs": [],
   "source": [
    "## Within chapter exercises\n",
    "\n",
    "## Modules\n",
    "# os = operating system\n",
    "# shutil = shell utilities\n",
    "# subprocess = run an external program\n",
    "# sys = use command-line options in python scripts\n",
    "\n",
    "import os\n",
    "import shutil\n",
    "import subprocess\n",
    "import sys\n",
    "\n",
    "## Paths\n",
    "# Windows = c:\\path\\to\\my\\file.txt\n",
    "# Mac/Linux = /path/to/my/file.txt"
   ]
  },
  {
   "cell_type": "code",
   "execution_count": 7,
   "metadata": {},
   "outputs": [
    {
     "ename": "FileNotFoundError",
     "evalue": "[Errno 2] No such file or directory: 'dna.txt' -> 'dna2.txt'",
     "output_type": "error",
     "traceback": [
      "\u001b[0;31m---------------------------------------------------------------------------\u001b[0m",
      "\u001b[0;31mFileNotFoundError\u001b[0m                         Traceback (most recent call last)",
      "\u001b[0;32m<ipython-input-7-38ac5cfcabee>\u001b[0m in \u001b[0;36m<module>\u001b[0;34m\u001b[0m\n\u001b[1;32m      2\u001b[0m \u001b[0;34m\u001b[0m\u001b[0m\n\u001b[1;32m      3\u001b[0m \u001b[0;31m## Within working directory (old file/folder, new file/folder)\u001b[0m\u001b[0;34m\u001b[0m\u001b[0;34m\u001b[0m\u001b[0;34m\u001b[0m\u001b[0m\n\u001b[0;32m----> 4\u001b[0;31m \u001b[0mos\u001b[0m\u001b[0;34m.\u001b[0m\u001b[0mrename\u001b[0m\u001b[0;34m(\u001b[0m\u001b[0;34m\"dna.txt\"\u001b[0m\u001b[0;34m,\u001b[0m \u001b[0;34m\"dna2.txt\"\u001b[0m\u001b[0;34m)\u001b[0m\u001b[0;34m\u001b[0m\u001b[0;34m\u001b[0m\u001b[0m\n\u001b[0m\u001b[1;32m      5\u001b[0m \u001b[0;34m\u001b[0m\u001b[0m\n\u001b[1;32m      6\u001b[0m \u001b[0;31m## Outside of working directory\u001b[0m\u001b[0;34m\u001b[0m\u001b[0;34m\u001b[0m\u001b[0;34m\u001b[0m\u001b[0m\n",
      "\u001b[0;31mFileNotFoundError\u001b[0m: [Errno 2] No such file or directory: 'dna.txt' -> 'dna2.txt'"
     ]
    }
   ],
   "source": [
    "### Renaming files and folders\n",
    "\n",
    "## Within working directory (old file/folder, new file/folder)\n",
    "os.rename(\"dna.txt\", \"dna2.txt\")\n",
    "\n",
    "## Outside of working directory\n",
    "# Enter complete path vs. relative path\n",
    "\n",
    "## Move from directory when renaming\n",
    "# Enter different path for second term\n",
    "\n",
    "## Moving to file/folder that doesn't exist\n",
    "# Need to create directory\n",
    "os.mkdir(\"/Users/simontye/Desktop/Example\")\n",
    "\n",
    "## Moving to multiple files/folders that don't exist\n",
    "# Need to create multiple directories with a single path\n",
    "os.mkdirs(\"/Users/simontye/Desktop/Example/Test1/Test2/Test3\")"
   ]
  },
  {
   "cell_type": "code",
   "execution_count": 10,
   "metadata": {},
   "outputs": [
    {
     "data": {
      "text/plain": [
       "'dna_2.txt'"
      ]
     },
     "execution_count": 10,
     "metadata": {},
     "output_type": "execute_result"
    }
   ],
   "source": [
    "### Copying files and folders\n",
    "\n",
    "## Copy a single file\n",
    "shutil.copy(\"dna2.txt\", \"dna_2.txt\")\n",
    "\n",
    "## Copy a single folder\n",
    "shutil.copytree(\"/Users/simontye/Personal\", \"/Users/simontye/Personal_Backup\")\n",
    "\n",
    "## Test whether copied file or folder exists\n",
    "if os.path.exists(\"/Users/simontye/Personal_Backup\"):\n",
    "    print(\"You did the thing\")"
   ]
  },
  {
   "cell_type": "code",
   "execution_count": 12,
   "metadata": {},
   "outputs": [
    {
     "ename": "FileNotFoundError",
     "evalue": "[Errno 2] No such file or directory: 'dna_2.txt'",
     "output_type": "error",
     "traceback": [
      "\u001b[0;31m---------------------------------------------------------------------------\u001b[0m",
      "\u001b[0;31mFileNotFoundError\u001b[0m                         Traceback (most recent call last)",
      "\u001b[0;32m<ipython-input-12-4dff84909ed3>\u001b[0m in \u001b[0;36m<module>\u001b[0;34m\u001b[0m\n\u001b[1;32m      2\u001b[0m \u001b[0;34m\u001b[0m\u001b[0m\n\u001b[1;32m      3\u001b[0m \u001b[0;31m# Delete a single file\u001b[0m\u001b[0;34m\u001b[0m\u001b[0;34m\u001b[0m\u001b[0;34m\u001b[0m\u001b[0m\n\u001b[0;32m----> 4\u001b[0;31m \u001b[0mos\u001b[0m\u001b[0;34m.\u001b[0m\u001b[0mremove\u001b[0m\u001b[0;34m(\u001b[0m\u001b[0;34m\"dna_2.txt\"\u001b[0m\u001b[0;34m)\u001b[0m\u001b[0;34m\u001b[0m\u001b[0;34m\u001b[0m\u001b[0m\n\u001b[0m\u001b[1;32m      5\u001b[0m \u001b[0;34m\u001b[0m\u001b[0m\n\u001b[1;32m      6\u001b[0m \u001b[0;31m# Delete an empty folder\u001b[0m\u001b[0;34m\u001b[0m\u001b[0;34m\u001b[0m\u001b[0;34m\u001b[0m\u001b[0m\n",
      "\u001b[0;31mFileNotFoundError\u001b[0m: [Errno 2] No such file or directory: 'dna_2.txt'"
     ]
    }
   ],
   "source": [
    "### Deleting files and folders\n",
    "\n",
    "## Delete a single file\n",
    "os.remove(\"dna_2.txt\")\n",
    "\n",
    "## Delete an empty folder\n",
    "os.rmdir(\"/Users/simontye/Personal_Backup\")\n",
    "\n",
    "## Delete a full folder\n",
    "shutil.rmtree(\"/Users/simontye/Personal_Backup\")"
   ]
  },
  {
   "cell_type": "code",
   "execution_count": null,
   "metadata": {},
   "outputs": [],
   "source": [
    "### Listing folder contents\n",
    "\n",
    "## List contents of working directory\n",
    "for file_name in os.listdir(\".\"): print(\"File: \" + file_name)\n",
    "    \n",
    "## List contents of other directory\n",
    "for file_name in os.listdir(\"/Users/simontye/Personal\"): print(\"File: \" + file_name)"
   ]
  },
  {
   "cell_type": "code",
   "execution_count": 18,
   "metadata": {},
   "outputs": [
    {
     "data": {
      "text/plain": [
       "0"
      ]
     },
     "execution_count": 18,
     "metadata": {},
     "output_type": "execute_result"
    }
   ],
   "source": [
    "### Running programs\n",
    "\n",
    "## Run an external program (date)\n",
    "subprocess.call(\"/bin/date\")\n",
    "\n",
    "## Set arguments for an external program\n",
    "subprocess.call(\"/bin/date +%B\", shell = True)\n",
    "\n",
    "## Save output from an external prograrm\n",
    "month = subprocess.check_output(\"/bin/date +%B\", shell = True)\n",
    "\n"
   ]
  },
  {
   "cell_type": "code",
   "execution_count": 20,
   "metadata": {},
   "outputs": [
    {
     "name": "stdout",
     "output_type": "stream",
     "text": [
      "filesadf\n"
     ]
    }
   ],
   "source": [
    "### Creating interactive programs\n",
    "\n",
    "## Store input from user\n",
    "accession = input(\"file\")"
   ]
  },
  {
   "cell_type": "code",
   "execution_count": 23,
   "metadata": {},
   "outputs": [
    {
     "ename": "SyntaxError",
     "evalue": "invalid syntax (<ipython-input-23-419f4d7df99c>, line 7)",
     "output_type": "error",
     "traceback": [
      "\u001b[0;36m  File \u001b[0;32m\"<ipython-input-23-419f4d7df99c>\"\u001b[0;36m, line \u001b[0;32m7\u001b[0m\n\u001b[0;31m    python myprogram.py one two three\u001b[0m\n\u001b[0m                   ^\u001b[0m\n\u001b[0;31mSyntaxError\u001b[0m\u001b[0;31m:\u001b[0m invalid syntax\n"
     ]
    }
   ],
   "source": [
    "### Command-line arguments in Python\n",
    "\n",
    "# Python \n",
    "print(sys.argv)\n",
    "\n",
    "# Command-line\n",
    "python myprogram.py one two three"
   ]
  },
  {
   "cell_type": "code",
   "execution_count": null,
   "metadata": {},
   "outputs": [],
   "source": [
    "### End of chapter exercises\n",
    "\n",
    "## Binning DNA sequences\n",
    "# Will finish later, need to download .dna files\n",
    "# But can't find P4B files online"
   ]
  },
  {
   "cell_type": "code",
   "execution_count": 29,
   "metadata": {},
   "outputs": [
    {
     "name": "stdout",
     "output_type": "stream",
     "text": [
      "ATT\n",
      "TTC\n",
      "TCT\n",
      "CTA\n",
      "TAG\n",
      "AGG\n",
      "GGA\n",
      "GAT\n",
      "ATC\n",
      "TCA\n"
     ]
    }
   ],
   "source": [
    "## Kmer counting\n",
    "\n",
    "# Create test string\n",
    "test = \"ATTCTAGGATCA\"\n",
    "\n",
    "# Designate kmer size\n",
    "kmer = 3\n",
    "\n",
    "# Print kmers\n",
    "for theloveofgod in range(0, len(test) - (kmer - 1), 1): # Set range from 0 to len(test) by 1, and account for exclusive end character\n",
    "    kmer2 = test[theloveofgod:theloveofgod + kmer] # Create kmers based on range from above\n",
    "    print(kmer2) # Print all kmers\n",
    "\n",
    "## Will finish later, need to read more about creating programs"
   ]
  }
 ],
 "metadata": {
  "kernelspec": {
   "display_name": "Python 3",
   "language": "python",
   "name": "python3"
  },
  "language_info": {
   "codemirror_mode": {
    "name": "ipython",
    "version": 3
   },
   "file_extension": ".py",
   "mimetype": "text/x-python",
   "name": "python",
   "nbconvert_exporter": "python",
   "pygments_lexer": "ipython3",
   "version": "3.7.6"
  }
 },
 "nbformat": 4,
 "nbformat_minor": 2
}
