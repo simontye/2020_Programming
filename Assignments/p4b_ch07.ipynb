{
 "cells": [
  {
   "cell_type": "code",
   "execution_count": 1,
   "metadata": {},
   "outputs": [],
   "source": [
    "### Chapter 7"
   ]
  },
  {
   "cell_type": "code",
   "execution_count": 3,
   "metadata": {},
   "outputs": [
    {
     "name": "stdout",
     "output_type": "stream",
     "text": [
      "\\t\\n\n"
     ]
    }
   ],
   "source": [
    "## Within chapter exercises\n",
    "\n",
    "# Import regular expressions module\n",
    "import re\n",
    "\n",
    "# Format of search function in re\n",
    "# re.search(pattern, string)\n",
    "\n",
    "# Special characters\n",
    "# \\n = new line\n",
    "# \\t = new tab\n",
    "\n",
    "# Special characters are ignored if you place a \"r\" (raw)\n",
    "# before the opening quotation mark\n",
    "print(r\"\\t\\n\")"
   ]
  },
  {
   "cell_type": "code",
   "execution_count": 4,
   "metadata": {},
   "outputs": [
    {
     "name": "stdout",
     "output_type": "stream",
     "text": [
      "restriction site found!\n"
     ]
    }
   ],
   "source": [
    "## Searching for a pattern in a string\n",
    "# re.search is a T/F function\n",
    "dna = \"ATCGCGAATTCAC\"\n",
    "if re.search(r\"GAATTC\", dna):\n",
    "    print(\"restriction site found!\")\n"
   ]
  },
  {
   "cell_type": "code",
   "execution_count": 5,
   "metadata": {},
   "outputs": [],
   "source": [
    "## Searching for two patterns in a string\n",
    "dna = \"ATCGCGAATTCAC\"\n",
    "if re.search(r\"GGACC\", dna) or re.search(r\"GGTCC\", dna):\n",
    "    print(\"restriction site found!\")\n",
    "\n",
    "## Simplified version\n",
    "# Pipe implies A or T for third character\n",
    "dna = \"ATCGCGAATTCAC\"\n",
    "if re.search(r\"GG(A|T)CC\", dna):\n",
    "    print(\"restriction site found!\")"
   ]
  },
  {
   "cell_type": "code",
   "execution_count": null,
   "metadata": {},
   "outputs": [],
   "source": [
    "## Character groups\n",
    "# Expanded version for >2 character options\n",
    "dna = \"ATCGCGAATTCAC\"\n",
    "if re.search(r\"GC(A|T|G|C)GC\", dna):\n",
    "    print(\"restriction site found!\")\n",
    "    \n",
    "## Simplified version\n",
    "# Brackets include all character options \n",
    "dna = \"ATCGCGAATTCAC\"\n",
    "if re.search(r\"GC[ATGC]GC\", dna):\n",
    "    print(\"restriction site found!\")\n",
    "    \n",
    "## Include any character\n",
    "# Period implies any character (e.g., A or %)\n",
    "dna = \"ATCGCGAATTCAC\"\n",
    "if re.search(r\"GC.GC\", dna):\n",
    "    print(\"restriction site found!\")\n",
    "    \n",
    "## Exclude certain characters (e.g., . and :)\n",
    "dna = \"ATCGCGAATTCAC\"\n",
    "if re.search(r\"GC[^.:]GC\", dna):\n",
    "    print(\"restriction site found!\")"
   ]
  },
  {
   "cell_type": "code",
   "execution_count": null,
   "metadata": {},
   "outputs": [],
   "source": [
    "## Quantifiers\n",
    "# Describes variation in the number of times\n",
    "# a section of a pattern is repeated\n",
    "\n",
    "# ? after character \"A?\"     = character is optional\n",
    "# ? after characters \"(AA)?\" = characters are optional\n",
    "\n",
    "# {#} after character        = character is repeated # times\n",
    "# {#,#} after character      = character is repeated between # and # times\n",
    "\n",
    "## Positions\n",
    "# ^ before character        = matches the start of a string\n",
    "# $ after character.        = matches the end of a string"
   ]
  },
  {
   "cell_type": "code",
   "execution_count": 8,
   "metadata": {},
   "outputs": [
    {
     "name": "stdout",
     "output_type": "stream",
     "text": [
      "GACGTAC\n"
     ]
    }
   ],
   "source": [
    "## Extracting part of the string that matched\n",
    "# Example 1\n",
    "dna = \"ATGACGTACGTACGACTG\"\n",
    "m = re.search(r\"GA[ATGC]{3}AC\", dna)\n",
    "print(m.group())"
   ]
  },
  {
   "cell_type": "code",
   "execution_count": 10,
   "metadata": {},
   "outputs": [
    {
     "name": "stdout",
     "output_type": "stream",
     "text": [
      "entire match: GACGTACGTAC\n",
      "first bit: CGT\n",
      "second bit: GT\n"
     ]
    }
   ],
   "source": [
    "## Extracting multiples parts of a string that matched\n",
    "# Example 2\n",
    "dna = \"ATGACGTACGTACGACTG\"\n",
    "# Place parentheses around each part\n",
    "m = re.search(r\"GA([ATGC]{3})AC([ATGC]{2})AC\", dna)\n",
    "print(\"entire match: \" + m.group())\n",
    "# Print specifics parts with group(#)\n",
    "print(\"first bit: \" + m.group(1))\n",
    "print(\"second bit: \" + m.group(2))"
   ]
  },
  {
   "cell_type": "code",
   "execution_count": 12,
   "metadata": {},
   "outputs": [
    {
     "name": "stdout",
     "output_type": "stream",
     "text": [
      "start: 2\n",
      "end: 13\n"
     ]
    }
   ],
   "source": [
    "## Getting the position of a match\n",
    "# Example 1\n",
    "dna = \"ATGACGTACGTACGACTG\"\n",
    "m = re.search(r\"GA([ATGC]{3})AC([ATGC]{2})AC\", dna)\n",
    "# Print positions of an entire match\n",
    "print(\"start: \" + str(m.start()))\n",
    "print(\"end: \" + str(m.end()))"
   ]
  },
  {
   "cell_type": "code",
   "execution_count": 14,
   "metadata": {},
   "outputs": [
    {
     "name": "stdout",
     "output_type": "stream",
     "text": [
      "start: 2\n",
      "end: 13\n",
      "group one start: 4\n",
      "group one end: 7\n",
      "group two start: 9\n",
      "group two end: 11\n"
     ]
    }
   ],
   "source": [
    "## Getting the position of a match\n",
    "# Example 1\n",
    "dna = \"ATGACGTACGTACGACTG\"\n",
    "m = re.search(r\"GA([ATGC]{3})AC([ATGC]{2})AC\", dna)\n",
    "print(\"start: \" + str(m.start()))\n",
    "print(\"end: \" + str(m.end()))\n",
    "# Print positions of specific parts of a match\n",
    "print(\"group one start: \" + str(m.start(1)))\n",
    "print(\"group one end: \" + str(m.end(1)))\n",
    "print(\"group two start: \" + str(m.start(2)))\n",
    "print(\"group two end: \" + str(m.end(2)))"
   ]
  },
  {
   "cell_type": "code",
   "execution_count": 15,
   "metadata": {},
   "outputs": [
    {
     "name": "stdout",
     "output_type": "stream",
     "text": [
      "['ACT', 'GCAT', 'GCTACGT', 'ACGAT', 'CGA', 'TCG']\n"
     ]
    }
   ],
   "source": [
    "## Splitting a string using a regular expression\n",
    "# Split sequence whenever there is an unambiguous base\n",
    "dna = \"ACTNGCATRGCTACGTYACGATSCGAWTCG\"\n",
    "# re.split(pattern, split)\n",
    "runs = re.split(r\"[^ATGC]\", dna)\n",
    "print(runs)"
   ]
  },
  {
   "cell_type": "code",
   "execution_count": 16,
   "metadata": {},
   "outputs": [
    {
     "name": "stdout",
     "output_type": "stream",
     "text": [
      "['ATTATAT', 'AAATTATA']\n"
     ]
    }
   ],
   "source": [
    "## Finding multiple matches\n",
    "# re.findall = returns a list of all matches of a pattern in a string\n",
    "dna = \"ACTGCATTATATCGTACGAAATTATACGCGCG\"\n",
    "# Searches for all matches of AT between 4 and 100\n",
    "runs = re.findall(r\"[AT]{4,100}\", dna)\n",
    "print(runs)"
   ]
  },
  {
   "cell_type": "code",
   "execution_count": 18,
   "metadata": {},
   "outputs": [
    {
     "name": "stdout",
     "output_type": "stream",
     "text": [
      "AT rich region from 5 to 12\n",
      "AT rich region from 18 to 26\n"
     ]
    }
   ],
   "source": [
    "## Finding multiple matches\n",
    "# re.finditer = returns a sequence of match objects\n",
    "dna = \"ACTGCATTATATCGTACGAAATTATACGCGCG\"\n",
    "runs = re.finditer(r\"[AT]{3,100}\", dna)\n",
    "# For each match, print the start and end position\n",
    "for match in runs:\n",
    "    run_start = match.start()\n",
    "    run_end = match.end()\n",
    "    print(\"AT rich region from \" + str(run_start) + \" to \" + str(run_end))"
   ]
  },
  {
   "cell_type": "code",
   "execution_count": 27,
   "metadata": {},
   "outputs": [
    {
     "name": "stdout",
     "output_type": "stream",
     "text": [
      "xkn59438\n",
      "hedle3455\n",
      "xjhd53e\n",
      "45da\n"
     ]
    }
   ],
   "source": [
    "### End of chapter exercises\n",
    "## Accession names\n",
    "\n",
    "# Save accession names\n",
    "names = [\"xkn59438\", \"yhdck2\", \"eihd39d9\", \"chdsye847\",\n",
    "         \"hedle3455\", \"xjhd53e\", \"45da\", \"de37dp\"]\n",
    "\n",
    "# 1. Contains 5\n",
    "for pattern in names:\n",
    "    if re.search(r\"5\", pattern):\n",
    "        print(pattern)"
   ]
  },
  {
   "cell_type": "code",
   "execution_count": 31,
   "metadata": {},
   "outputs": [
    {
     "name": "stdout",
     "output_type": "stream",
     "text": [
      "yhdck2\n",
      "eihd39d9\n",
      "chdsye847\n",
      "hedle3455\n",
      "xjhd53e\n",
      "45da\n",
      "de37dp\n"
     ]
    }
   ],
   "source": [
    "# 2. Contains d or e\n",
    "for pattern in names:\n",
    "    if re.search(r\"d|e\", pattern):\n",
    "        print(pattern)"
   ]
  },
  {
   "cell_type": "code",
   "execution_count": 32,
   "metadata": {},
   "outputs": [
    {
     "name": "stdout",
     "output_type": "stream",
     "text": [
      "chdsye847\n",
      "hedle3455\n",
      "xjhd53e\n",
      "de37dp\n"
     ]
    }
   ],
   "source": [
    "# 3. Contains d and e in order\n",
    "for pattern in names:\n",
    "    if re.search(r\"d.*e\", pattern):\n",
    "        print(pattern)"
   ]
  },
  {
   "cell_type": "code",
   "execution_count": 33,
   "metadata": {},
   "outputs": [
    {
     "name": "stdout",
     "output_type": "stream",
     "text": [
      "hedle3455\n"
     ]
    }
   ],
   "source": [
    "# 4. Contains d and e in order, with a single letter between them\n",
    "for pattern in names:\n",
    "    if re.search(r\"d.e\", pattern):\n",
    "        print(pattern)"
   ]
  },
  {
   "cell_type": "code",
   "execution_count": 35,
   "metadata": {},
   "outputs": [
    {
     "name": "stdout",
     "output_type": "stream",
     "text": [
      "eihd39d9\n",
      "chdsye847\n",
      "hedle3455\n",
      "xjhd53e\n",
      "de37dp\n"
     ]
    }
   ],
   "source": [
    "# 5. Contains d and e in any order\n",
    "for pattern in names:\n",
    "    if re.search(r\"d.*e\", pattern) or re.search(r\"e.*d\", pattern):\n",
    "        print(pattern)"
   ]
  },
  {
   "cell_type": "code",
   "execution_count": 36,
   "metadata": {},
   "outputs": [
    {
     "name": "stdout",
     "output_type": "stream",
     "text": [
      "xkn59438\n",
      "yhdck2\n",
      "xjhd53e\n"
     ]
    }
   ],
   "source": [
    "# 6. Starts with x or y\n",
    "for pattern in names:\n",
    "    if re.search(r\"^(x|y)\", pattern):\n",
    "        print(pattern)"
   ]
  },
  {
   "cell_type": "code",
   "execution_count": 44,
   "metadata": {},
   "outputs": [
    {
     "name": "stdout",
     "output_type": "stream",
     "text": [
      "xjhd53e\n"
     ]
    }
   ],
   "source": [
    "# 7. Starts with x or y and ends with e\n",
    "for pattern in names:\n",
    "    if re.search(r\"^(x|y).*e$\", pattern):\n",
    "        print(pattern)"
   ]
  },
  {
   "cell_type": "code",
   "execution_count": 48,
   "metadata": {},
   "outputs": [
    {
     "name": "stdout",
     "output_type": "stream",
     "text": [
      "xkn59438\n",
      "chdsye847\n",
      "hedle3455\n"
     ]
    }
   ],
   "source": [
    "# 8. Contains three numbers in a row\n",
    "for pattern in names:\n",
    "    if re.search(r\"[1,2,3,4,5,6,7,8,9,0]{3,}\", pattern):\n",
    "        print(pattern)"
   ]
  },
  {
   "cell_type": "code",
   "execution_count": 47,
   "metadata": {},
   "outputs": [
    {
     "name": "stdout",
     "output_type": "stream",
     "text": [
      "45da\n",
      "de37dp\n"
     ]
    }
   ],
   "source": [
    "# 9. Ends with d followed by either a, r, or p\n",
    "for pattern in names:\n",
    "    if re.search(r\"d[a,r,p]$\", pattern):\n",
    "        print(pattern)"
   ]
  },
  {
   "cell_type": "code",
   "execution_count": 79,
   "metadata": {},
   "outputs": [
    {
     "name": "stdout",
     "output_type": "stream",
     "text": [
      "Fragment size = 488\n",
      "Fragment size = 655\n",
      "Fragment size = 434\n",
      "Fragment size = 51\n",
      "Fragment size = 384\n"
     ]
    }
   ],
   "source": [
    "## Double digest\n",
    "dna = open(\"chp_07_dna.txt\")\n",
    "dna = dna.read()\n",
    "dna = dna.rstrip(\"\\n\")\n",
    "#print(dna)\n",
    "\n",
    "## Restriction enzymes (asteriks indicate cut site)\n",
    "# abci  = ANT*AAT = A[ATCG]TAAT\n",
    "# abcii = GCRW*TG = GC[AG][AT]TG\n",
    "\n",
    "# Find cut positions\n",
    "#for cut in re.finditer(r\"A[ATCG]TAAT\", dna):\n",
    "    #print(cut.start() + 3)\n",
    "\n",
    "# Find length of dna sequence\n",
    "dna_length = len(dna)\n",
    "#print(\"This sequence has \" + str(dna_length) + \" bases.\")\n",
    "\n",
    "# Create empty list to store positions\n",
    "#cuts = []\n",
    "cuts = [0]\n",
    "\n",
    "# Statement to save all fragment start / end points for abci\n",
    "for cut in re.finditer(r\"A[ATCG]TAAT\", dna):\n",
    "    cuts.append(cut.start() + 3)\n",
    "cuts.append(dna_length)\n",
    "\n",
    "# Statement to print all fragment sizes for abci\n",
    "for cut in range(1, len(cuts)):\n",
    "    current_position  = cuts[cut]\n",
    "    previous_position = cuts[cut-1]\n",
    "    fragment_size     = current_position - previous_position\n",
    "    #print(\"Fragment size = \" + str(fragment_size))\n",
    "    \n",
    "# Statement to save all fragment start / end points for abci and abcii\n",
    "for cut in re.finditer(r\"A[ATCG]TAAT\", dna):\n",
    "    cuts.append(cut.start() + 3)\n",
    "    \n",
    "for cut in re.finditer(r\"GC[AG][AT]TG\", dna):\n",
    "    cuts.append(cut.start() + 4)\n",
    "    \n",
    "cuts.append(dna_length)\n",
    "sorted_cuts = sorted(cuts)\n",
    "\n",
    "# Statement to print all fragment sizes for abci and abcii\n",
    "for cut in range(1, len(sorted_cuts)):\n",
    "    current_position  = sorted_cuts[cut]\n",
    "    previous_position = sorted_cuts[cut-1]\n",
    "    fragment_size     = current_position - previous_position\n",
    "    if fragment_size >= 1:\n",
    "        print(\"Fragment size = \" + str(fragment_size))"
   ]
  }
 ],
 "metadata": {
  "kernelspec": {
   "display_name": "Python 3",
   "language": "python",
   "name": "python3"
  },
  "language_info": {
   "codemirror_mode": {
    "name": "ipython",
    "version": 3
   },
   "file_extension": ".py",
   "mimetype": "text/x-python",
   "name": "python",
   "nbconvert_exporter": "python",
   "pygments_lexer": "ipython3",
   "version": "3.7.6"
  }
 },
 "nbformat": 4,
 "nbformat_minor": 4
}
